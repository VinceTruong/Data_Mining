{
 "cells": [
  {
   "cell_type": "code",
   "execution_count": 53,
   "metadata": {
    "execution": {
     "iopub.execute_input": "2022-12-03T05:23:45.838248Z",
     "iopub.status.busy": "2022-12-03T05:23:45.837805Z",
     "iopub.status.idle": "2022-12-03T05:23:52.950523Z",
     "shell.execute_reply": "2022-12-03T05:23:52.949314Z",
     "shell.execute_reply.started": "2022-12-03T05:23:45.838205Z"
    }
   },
   "outputs": [],
   "source": [
    "import os\n",
    "import shutil\n",
    "import numpy as np\n",
    "import pandas as pd\n",
    "from tqdm import tqdm\n",
    "\n",
    "from PIL import Image\n",
    "from tensorflow.keras.preprocessing.image import load_img\n",
    "from tensorflow.keras.preprocessing.image import img_to_array\n",
    "from tensorflow.keras.preprocessing.image import ImageDataGenerator"
   ]
  },
  {
   "cell_type": "code",
   "execution_count": 55,
   "metadata": {},
   "outputs": [],
   "source": [
    "path = \"./Data_Mining\""
   ]
  },
  {
   "cell_type": "code",
   "execution_count": 57,
   "metadata": {},
   "outputs": [
    {
     "data": {
      "text/plain": [
       "'./Data_Mining/dataset_aug'"
      ]
     },
     "execution_count": 57,
     "metadata": {},
     "output_type": "execute_result"
    }
   ],
   "source": [
    "#Copy original dataset and rename the folder as dataset_aug\n",
    "shutil.copytree(path+\"/dataset\", path+\"/dataset_aug\")"
   ]
  },
  {
   "cell_type": "code",
   "execution_count": 68,
   "metadata": {},
   "outputs": [
    {
     "name": "stderr",
     "output_type": "stream",
     "text": [
      "100%|████████████████████████████████████████████████████████████████████████████████| 431/431 [00:05<00:00, 76.61it/s]\n"
     ]
    }
   ],
   "source": [
    "for files in tqdm(os.listdir(path+'/dataset/train/disgust')):\n",
    "    file = files.split(\".\")[0]\n",
    "    \n",
    "    #load images to array\n",
    "    img = load_img(path+'/dataset/train/disgust/' + files)\n",
    "    img = img_to_array(img)\n",
    "    data = np.expand_dims(img, 0)\n",
    "    \n",
    "    # Data Augmentation approach using horizontal_flip, brightness_range, rotation_range\n",
    "    myImageGen = ImageDataGenerator(horizontal_flip=True, brightness_range=[0.5,1.5], rotation_range=45)\n",
    "\n",
    "    gen = myImageGen.flow(data, batch_size=1)\n",
    "    \n",
    "    # generate additional 8 augmented images for each original one\n",
    "    for i in range(8):\n",
    "        myBatch = gen.next()\n",
    "        image = myBatch[0].astype('uint8')\n",
    "        image.reshape((48,48,3))\n",
    "        image = image[:,:,0]\n",
    "        Image.fromarray(image).save(path + \"/dataset_aug/train/disgust/\" + file + str(i) + \".jpg\")\n"
   ]
  },
  {
   "cell_type": "code",
   "execution_count": null,
   "metadata": {},
   "outputs": [],
   "source": []
  }
 ],
 "metadata": {
  "kernelspec": {
   "display_name": "Python 3 (ipykernel)",
   "language": "python",
   "name": "python3"
  },
  "language_info": {
   "codemirror_mode": {
    "name": "ipython",
    "version": 3
   },
   "file_extension": ".py",
   "mimetype": "text/x-python",
   "name": "python",
   "nbconvert_exporter": "python",
   "pygments_lexer": "ipython3",
   "version": "3.9.12"
  }
 },
 "nbformat": 4,
 "nbformat_minor": 4
}
