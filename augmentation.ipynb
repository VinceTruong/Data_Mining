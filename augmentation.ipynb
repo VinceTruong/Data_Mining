{
 "cells": [
  {
   "cell_type": "code",
   "execution_count": 2,
   "metadata": {
    "_cell_guid": "b1076dfc-b9ad-4769-8c92-a6c4dae69d19",
    "_uuid": "8f2839f25d086af736a60e9eeb907d3b93b6e0e5",
    "execution": {
     "iopub.execute_input": "2022-12-03T05:23:22.949310Z",
     "iopub.status.busy": "2022-12-03T05:23:22.948826Z",
     "iopub.status.idle": "2022-12-03T05:23:28.570738Z",
     "shell.execute_reply": "2022-12-03T05:23:28.569124Z",
     "shell.execute_reply.started": "2022-12-03T05:23:22.949199Z"
    },
    "scrolled": true
   },
   "outputs": [
    {
     "name": "stderr",
     "output_type": "stream",
     "text": [
      "'git' is not recognized as an internal or external command,\n",
      "operable program or batch file.\n"
     ]
    }
   ],
   "source": [
    "#rm -rf Data_Mining\n",
    "!git clone https://github.com/VinceTruong/Data_Mining.git"
   ]
  },
  {
   "cell_type": "code",
   "execution_count": 53,
   "metadata": {
    "execution": {
     "iopub.execute_input": "2022-12-03T05:23:45.838248Z",
     "iopub.status.busy": "2022-12-03T05:23:45.837805Z",
     "iopub.status.idle": "2022-12-03T05:23:52.950523Z",
     "shell.execute_reply": "2022-12-03T05:23:52.949314Z",
     "shell.execute_reply.started": "2022-12-03T05:23:45.838205Z"
    }
   },
   "outputs": [],
   "source": [
    "import os\n",
    "import shutil\n",
    "import numpy as np\n",
    "import pandas as pd\n",
    "from tqdm import tqdm\n",
    "\n",
    "from PIL import Image\n",
    "from tensorflow.keras.preprocessing.image import load_img\n",
    "from tensorflow.keras.preprocessing.image import img_to_array\n",
    "from tensorflow.keras.preprocessing.image import ImageDataGenerator"
   ]
  },
  {
   "cell_type": "code",
   "execution_count": 55,
   "metadata": {},
   "outputs": [],
   "source": [
    "path = \"./Data_Mining\""
   ]
  },
  {
   "cell_type": "code",
   "execution_count": 57,
   "metadata": {},
   "outputs": [
    {
     "data": {
      "text/plain": [
       "'./Data_Mining/dataset_aug'"
      ]
     },
     "execution_count": 57,
     "metadata": {},
     "output_type": "execute_result"
    }
   ],
   "source": [
    "shutil.copytree(path+\"/dataset\", path+\"/dataset_aug\")"
   ]
  },
  {
   "cell_type": "code",
   "execution_count": 64,
   "metadata": {},
   "outputs": [
    {
     "name": "stderr",
     "output_type": "stream",
     "text": [
      "100%|██████████████████████████████████████████████████████████████████████████████| 431/431 [00:00<00:00, 1135.37it/s]\n"
     ]
    }
   ],
   "source": [
    "for files in tqdm(os.listdir(path+'/dataset/train/disgust')):\n",
    "    file = files.split(\".\")[0]\n",
    "    shutil.copy(path+'/dataset/train/disgust/'+files, path+'/dataset_aug/train/disgust/'+files)"
   ]
  },
  {
   "cell_type": "code",
   "execution_count": 68,
   "metadata": {},
   "outputs": [
    {
     "name": "stderr",
     "output_type": "stream",
     "text": [
      "100%|████████████████████████████████████████████████████████████████████████████████| 431/431 [00:05<00:00, 76.61it/s]\n"
     ]
    }
   ],
   "source": [
    "for files in tqdm(os.listdir(path+'/dataset/train/disgust')):\n",
    "    file = files.split(\".\")[0]\n",
    "    shutil.copy(path+'/dataset/train/disgust/'+files, path+'/dataset_aug/train/disgust/'+files)\n",
    "    \n",
    "    img = load_img(path+'/dataset/train/disgust/' + files)\n",
    "    img = img_to_array(img)\n",
    "    data = np.expand_dims(img, 0)\n",
    "\n",
    "    myImageGen = ImageDataGenerator(horizontal_flip=True, brightness_range=[0.5,1.5], rotation_range=45)\n",
    "\n",
    "    gen = myImageGen.flow(data, batch_size=1)\n",
    "\n",
    "    for i in range(8):\n",
    "        myBatch = gen.next()\n",
    "        image = myBatch[0].astype('uint8')\n",
    "        image.reshape((48,48,3))\n",
    "        image = image[:,:,0]\n",
    "        Image.fromarray(image).save(path + \"/dataset_aug/train/disgust/\" + file + str(i) + \".jpg\")\n"
   ]
  },
  {
   "cell_type": "code",
   "execution_count": 65,
   "metadata": {},
   "outputs": [],
   "source": [
    "for i in os.listdir(path+'/dataset_aug/train/disgust'):\n",
    "    os.remove(path+'/dataset_aug/train/disgust/' + i)"
   ]
  },
  {
   "cell_type": "code",
   "execution_count": null,
   "metadata": {},
   "outputs": [],
   "source": []
  },
  {
   "cell_type": "code",
   "execution_count": null,
   "metadata": {},
   "outputs": [],
   "source": []
  },
  {
   "cell_type": "code",
   "execution_count": null,
   "metadata": {},
   "outputs": [],
   "source": []
  },
  {
   "cell_type": "code",
   "execution_count": null,
   "metadata": {},
   "outputs": [],
   "source": []
  },
  {
   "cell_type": "code",
   "execution_count": null,
   "metadata": {},
   "outputs": [],
   "source": []
  },
  {
   "cell_type": "code",
   "execution_count": null,
   "metadata": {},
   "outputs": [],
   "source": []
  },
  {
   "cell_type": "code",
   "execution_count": null,
   "metadata": {},
   "outputs": [],
   "source": []
  },
  {
   "cell_type": "code",
   "execution_count": null,
   "metadata": {},
   "outputs": [],
   "source": []
  },
  {
   "cell_type": "code",
   "execution_count": null,
   "metadata": {},
   "outputs": [],
   "source": []
  },
  {
   "cell_type": "code",
   "execution_count": null,
   "metadata": {},
   "outputs": [],
   "source": []
  }
 ],
 "metadata": {
  "kernelspec": {
   "display_name": "Python 3 (ipykernel)",
   "language": "python",
   "name": "python3"
  },
  "language_info": {
   "codemirror_mode": {
    "name": "ipython",
    "version": 3
   },
   "file_extension": ".py",
   "mimetype": "text/x-python",
   "name": "python",
   "nbconvert_exporter": "python",
   "pygments_lexer": "ipython3",
   "version": "3.9.12"
  }
 },
 "nbformat": 4,
 "nbformat_minor": 4
}
